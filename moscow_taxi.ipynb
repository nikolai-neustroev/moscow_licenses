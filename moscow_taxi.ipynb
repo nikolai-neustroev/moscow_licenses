{
 "cells": [
  {
   "cell_type": "markdown",
   "metadata": {},
   "source": [
    "# Знакомство с набором данных о выданных Дептрансом Москвы разрешениях такси"
   ]
  },
  {
   "cell_type": "markdown",
   "metadata": {},
   "source": [
    "Департамент транспорта и развития дорожно-транспортной инфраструктуры города Москвы (далее – Департамент) выдает разрешения на осуществление деятельности по перевозке пассажиров и багажа легковым такси на территории города Москвы (далее – разрешение).\n",
    "\n",
    "Данные о выданных разрешениях публикуются в машиночитаемом виде на портале открытых данных правительства Москвы: https://data.mos.ru/opendata/7704786030-vydannye-razresheniya-na-osushchestvlenie-deyatelnosti-po-perevozke-passajirov-i-bagaja-legkovym-taksi\n",
    "\n",
    "Дата последнего обновления набора - 28.06.2018\n",
    "\n",
    "Попробуем познакомится с этим набором данных и сделать какие-нибудь полезные выводы."
   ]
  },
  {
   "cell_type": "code",
   "execution_count": 1,
   "metadata": {},
   "outputs": [],
   "source": [
    "import pandas as pd\n",
    "import matplotlib.pyplot as plt\n"
   ]
  },
  {
   "cell_type": "code",
   "execution_count": 2,
   "metadata": {},
   "outputs": [],
   "source": [
    "data = pd.read_csv(\"msc_lic.csv\", delimiter=\";\", encoding = \"cp1251\")"
   ]
  },
  {
   "cell_type": "code",
   "execution_count": 3,
   "metadata": {},
   "outputs": [
    {
     "data": {
      "text/plain": [
       "(99997, 18)"
      ]
     },
     "execution_count": 3,
     "metadata": {},
     "output_type": "execute_result"
    }
   ],
   "source": [
    "data.shape #узнаем количество строк и столбцов нашего датафрейма"
   ]
  },
  {
   "cell_type": "code",
   "execution_count": 4,
   "metadata": {},
   "outputs": [
    {
     "data": {
      "text/html": [
       "<div>\n",
       "<style scoped>\n",
       "    .dataframe tbody tr th:only-of-type {\n",
       "        vertical-align: middle;\n",
       "    }\n",
       "\n",
       "    .dataframe tbody tr th {\n",
       "        vertical-align: top;\n",
       "    }\n",
       "\n",
       "    .dataframe thead th {\n",
       "        text-align: right;\n",
       "    }\n",
       "</style>\n",
       "<table border=\"1\" class=\"dataframe\">\n",
       "  <thead>\n",
       "    <tr style=\"text-align: right;\">\n",
       "      <th></th>\n",
       "      <th>LicenseNumber</th>\n",
       "      <th>global_id</th>\n",
       "      <th>VehicleNumber</th>\n",
       "      <th>INN</th>\n",
       "      <th>OGRN</th>\n",
       "      <th>BlankNumber</th>\n",
       "      <th>VehicleBrand</th>\n",
       "      <th>VehicleYear</th>\n",
       "      <th>FullName</th>\n",
       "      <th>ShortName</th>\n",
       "      <th>LicenseDate</th>\n",
       "      <th>LicenseEndDate</th>\n",
       "      <th>ValidityDate</th>\n",
       "      <th>EditDate</th>\n",
       "      <th>Info</th>\n",
       "      <th>Status</th>\n",
       "      <th>VehicleModel</th>\n",
       "      <th>Unnamed: 17</th>\n",
       "    </tr>\n",
       "  </thead>\n",
       "  <tbody>\n",
       "    <tr>\n",
       "      <th>0</th>\n",
       "      <td>54012.0</td>\n",
       "      <td>14174025</td>\n",
       "      <td>УУ50277</td>\n",
       "      <td>7.736680e+09</td>\n",
       "      <td>1.147747e+12</td>\n",
       "      <td>Серия МСК № 062005</td>\n",
       "      <td>FORD</td>\n",
       "      <td>2015.0</td>\n",
       "      <td>ОБЩЕСТВО С ОГРАНИЧЕННОЙ ОТВЕТСТВЕННОСТЬЮ «БЕТА»</td>\n",
       "      <td>ООО «БЕТА»</td>\n",
       "      <td>15.06.2015</td>\n",
       "      <td>14.06.2020</td>\n",
       "      <td>с 15.06.2015 до 14.06.2020</td>\n",
       "      <td>17.03.2017</td>\n",
       "      <td>Разрешение аннулировано</td>\n",
       "      <td>Аннулировано</td>\n",
       "      <td>GALAXY</td>\n",
       "      <td>NaN</td>\n",
       "    </tr>\n",
       "    <tr>\n",
       "      <th>1</th>\n",
       "      <td>54013.0</td>\n",
       "      <td>14174027</td>\n",
       "      <td>УМ76477</td>\n",
       "      <td>7.736680e+09</td>\n",
       "      <td>1.147747e+12</td>\n",
       "      <td>Серия МСК № 062006</td>\n",
       "      <td>FORD</td>\n",
       "      <td>2015.0</td>\n",
       "      <td>ОБЩЕСТВО С ОГРАНИЧЕННОЙ ОТВЕТСТВЕННОСТЬЮ «БЕТА»</td>\n",
       "      <td>ООО «БЕТА»</td>\n",
       "      <td>15.06.2015</td>\n",
       "      <td>14.06.2020</td>\n",
       "      <td>с 15.06.2015 до 14.06.2020</td>\n",
       "      <td>17.03.2017</td>\n",
       "      <td>Разрешение аннулировано</td>\n",
       "      <td>Аннулировано</td>\n",
       "      <td>GALAXY</td>\n",
       "      <td>NaN</td>\n",
       "    </tr>\n",
       "    <tr>\n",
       "      <th>2</th>\n",
       "      <td>42584.0</td>\n",
       "      <td>660335888</td>\n",
       "      <td>КЕ37077</td>\n",
       "      <td>7.713651e+11</td>\n",
       "      <td>3.117746e+14</td>\n",
       "      <td>Серия МСК № 048754</td>\n",
       "      <td>CHEVROLET</td>\n",
       "      <td>2014.0</td>\n",
       "      <td>Жарый Алексей Владимирович</td>\n",
       "      <td>Жарый Алексей Владимирович</td>\n",
       "      <td>27.06.2014</td>\n",
       "      <td>26.06.2019</td>\n",
       "      <td>с 27.06.2014 до 26.06.2019</td>\n",
       "      <td>27.06.2014</td>\n",
       "      <td>Разрешение действующее</td>\n",
       "      <td>Действующее</td>\n",
       "      <td>CRUZE KL1J</td>\n",
       "      <td>NaN</td>\n",
       "    </tr>\n",
       "    <tr>\n",
       "      <th>3</th>\n",
       "      <td>54318.0</td>\n",
       "      <td>660335889</td>\n",
       "      <td>КО92277</td>\n",
       "      <td>5.433288e+10</td>\n",
       "      <td>3.060562e+14</td>\n",
       "      <td>Серия МСК № 062326</td>\n",
       "      <td>ХЕНДЭ</td>\n",
       "      <td>2015.0</td>\n",
       "      <td>АБАКАРОВА РАЗИЯТ ДАДАМОВНА</td>\n",
       "      <td>АБАКАРОВА РАЗИЯТ ДАДАМОВНА</td>\n",
       "      <td>17.06.2015</td>\n",
       "      <td>16.06.2020</td>\n",
       "      <td>с 17.06.2015 до 16.06.2020</td>\n",
       "      <td>17.06.2015</td>\n",
       "      <td>Разрешение действующее</td>\n",
       "      <td>Действующее</td>\n",
       "      <td>СОЛЯРИС</td>\n",
       "      <td>NaN</td>\n",
       "    </tr>\n",
       "    <tr>\n",
       "      <th>4</th>\n",
       "      <td>28402.0</td>\n",
       "      <td>660335890</td>\n",
       "      <td>Х777ТА25</td>\n",
       "      <td>7.743744e+09</td>\n",
       "      <td>1.097746e+12</td>\n",
       "      <td>Серия МСК № 031069</td>\n",
       "      <td>Hyundai</td>\n",
       "      <td>2010.0</td>\n",
       "      <td>Общество с ограниченной ответственностью «Стат...</td>\n",
       "      <td>ООО «СтатТрейдГруп»</td>\n",
       "      <td>15.04.2013</td>\n",
       "      <td>14.04.2018</td>\n",
       "      <td>с 15.04.2013 до 14.04.2018</td>\n",
       "      <td>13.02.2016</td>\n",
       "      <td>NaN</td>\n",
       "      <td>Истек срок действия</td>\n",
       "      <td>SantaFE</td>\n",
       "      <td>NaN</td>\n",
       "    </tr>\n",
       "  </tbody>\n",
       "</table>\n",
       "</div>"
      ],
      "text/plain": [
       "   LicenseNumber  global_id VehicleNumber           INN          OGRN  \\\n",
       "0        54012.0   14174025       УУ50277  7.736680e+09  1.147747e+12   \n",
       "1        54013.0   14174027       УМ76477  7.736680e+09  1.147747e+12   \n",
       "2        42584.0  660335888       КЕ37077  7.713651e+11  3.117746e+14   \n",
       "3        54318.0  660335889       КО92277  5.433288e+10  3.060562e+14   \n",
       "4        28402.0  660335890      Х777ТА25  7.743744e+09  1.097746e+12   \n",
       "\n",
       "          BlankNumber VehicleBrand  VehicleYear  \\\n",
       "0  Серия МСК № 062005         FORD       2015.0   \n",
       "1  Серия МСК № 062006         FORD       2015.0   \n",
       "2  Серия МСК № 048754    CHEVROLET       2014.0   \n",
       "3  Серия МСК № 062326        ХЕНДЭ       2015.0   \n",
       "4  Серия МСК № 031069      Hyundai       2010.0   \n",
       "\n",
       "                                            FullName  \\\n",
       "0    ОБЩЕСТВО С ОГРАНИЧЕННОЙ ОТВЕТСТВЕННОСТЬЮ «БЕТА»   \n",
       "1    ОБЩЕСТВО С ОГРАНИЧЕННОЙ ОТВЕТСТВЕННОСТЬЮ «БЕТА»   \n",
       "2                         Жарый Алексей Владимирович   \n",
       "3                         АБАКАРОВА РАЗИЯТ ДАДАМОВНА   \n",
       "4  Общество с ограниченной ответственностью «Стат...   \n",
       "\n",
       "                    ShortName LicenseDate LicenseEndDate  \\\n",
       "0                  ООО «БЕТА»  15.06.2015     14.06.2020   \n",
       "1                  ООО «БЕТА»  15.06.2015     14.06.2020   \n",
       "2  Жарый Алексей Владимирович  27.06.2014     26.06.2019   \n",
       "3  АБАКАРОВА РАЗИЯТ ДАДАМОВНА  17.06.2015     16.06.2020   \n",
       "4         ООО «СтатТрейдГруп»  15.04.2013     14.04.2018   \n",
       "\n",
       "                 ValidityDate    EditDate                     Info  \\\n",
       "0  с 15.06.2015 до 14.06.2020  17.03.2017  Разрешение аннулировано   \n",
       "1  с 15.06.2015 до 14.06.2020  17.03.2017  Разрешение аннулировано   \n",
       "2  с 27.06.2014 до 26.06.2019  27.06.2014   Разрешение действующее   \n",
       "3  с 17.06.2015 до 16.06.2020  17.06.2015   Разрешение действующее   \n",
       "4  с 15.04.2013 до 14.04.2018  13.02.2016                      NaN   \n",
       "\n",
       "                Status VehicleModel  Unnamed: 17  \n",
       "0         Аннулировано       GALAXY          NaN  \n",
       "1         Аннулировано       GALAXY          NaN  \n",
       "2          Действующее   CRUZE KL1J          NaN  \n",
       "3          Действующее      СОЛЯРИС          NaN  \n",
       "4  Истек срок действия      SantaFE          NaN  "
      ]
     },
     "execution_count": 4,
     "metadata": {},
     "output_type": "execute_result"
    }
   ],
   "source": [
    "data.head() #посмотрим на пять первых строк"
   ]
  },
  {
   "cell_type": "markdown",
   "metadata": {},
   "source": [
    "# Снижение размерности"
   ]
  },
  {
   "cell_type": "markdown",
   "metadata": {},
   "source": [
    "Строки INN, OGRN, FullName, ShortName по сути отражают одно значение - получателя лицензии. Оставим только INN. ValidityDate и Info также являются линейно зависимыми (от пары признаков LicenseDate-LicenseEndDate и признака Status сооответственно). Unnamed: 17 полностью неинформативен."
   ]
  },
  {
   "cell_type": "code",
   "execution_count": 5,
   "metadata": {},
   "outputs": [],
   "source": [
    "data = data.drop(columns=['OGRN', 'FullName', 'ShortName', 'ValidityDate', 'Info', 'Unnamed: 17'])"
   ]
  },
  {
   "cell_type": "code",
   "execution_count": 6,
   "metadata": {},
   "outputs": [
    {
     "data": {
      "text/html": [
       "<div>\n",
       "<style scoped>\n",
       "    .dataframe tbody tr th:only-of-type {\n",
       "        vertical-align: middle;\n",
       "    }\n",
       "\n",
       "    .dataframe tbody tr th {\n",
       "        vertical-align: top;\n",
       "    }\n",
       "\n",
       "    .dataframe thead th {\n",
       "        text-align: right;\n",
       "    }\n",
       "</style>\n",
       "<table border=\"1\" class=\"dataframe\">\n",
       "  <thead>\n",
       "    <tr style=\"text-align: right;\">\n",
       "      <th></th>\n",
       "      <th>LicenseNumber</th>\n",
       "      <th>global_id</th>\n",
       "      <th>VehicleNumber</th>\n",
       "      <th>INN</th>\n",
       "      <th>BlankNumber</th>\n",
       "      <th>VehicleBrand</th>\n",
       "      <th>VehicleYear</th>\n",
       "      <th>LicenseDate</th>\n",
       "      <th>LicenseEndDate</th>\n",
       "      <th>EditDate</th>\n",
       "      <th>Status</th>\n",
       "      <th>VehicleModel</th>\n",
       "    </tr>\n",
       "  </thead>\n",
       "  <tbody>\n",
       "    <tr>\n",
       "      <th>0</th>\n",
       "      <td>54012.0</td>\n",
       "      <td>14174025</td>\n",
       "      <td>УУ50277</td>\n",
       "      <td>7.736680e+09</td>\n",
       "      <td>Серия МСК № 062005</td>\n",
       "      <td>FORD</td>\n",
       "      <td>2015.0</td>\n",
       "      <td>15.06.2015</td>\n",
       "      <td>14.06.2020</td>\n",
       "      <td>17.03.2017</td>\n",
       "      <td>Аннулировано</td>\n",
       "      <td>GALAXY</td>\n",
       "    </tr>\n",
       "    <tr>\n",
       "      <th>1</th>\n",
       "      <td>54013.0</td>\n",
       "      <td>14174027</td>\n",
       "      <td>УМ76477</td>\n",
       "      <td>7.736680e+09</td>\n",
       "      <td>Серия МСК № 062006</td>\n",
       "      <td>FORD</td>\n",
       "      <td>2015.0</td>\n",
       "      <td>15.06.2015</td>\n",
       "      <td>14.06.2020</td>\n",
       "      <td>17.03.2017</td>\n",
       "      <td>Аннулировано</td>\n",
       "      <td>GALAXY</td>\n",
       "    </tr>\n",
       "    <tr>\n",
       "      <th>2</th>\n",
       "      <td>42584.0</td>\n",
       "      <td>660335888</td>\n",
       "      <td>КЕ37077</td>\n",
       "      <td>7.713651e+11</td>\n",
       "      <td>Серия МСК № 048754</td>\n",
       "      <td>CHEVROLET</td>\n",
       "      <td>2014.0</td>\n",
       "      <td>27.06.2014</td>\n",
       "      <td>26.06.2019</td>\n",
       "      <td>27.06.2014</td>\n",
       "      <td>Действующее</td>\n",
       "      <td>CRUZE KL1J</td>\n",
       "    </tr>\n",
       "    <tr>\n",
       "      <th>3</th>\n",
       "      <td>54318.0</td>\n",
       "      <td>660335889</td>\n",
       "      <td>КО92277</td>\n",
       "      <td>5.433288e+10</td>\n",
       "      <td>Серия МСК № 062326</td>\n",
       "      <td>ХЕНДЭ</td>\n",
       "      <td>2015.0</td>\n",
       "      <td>17.06.2015</td>\n",
       "      <td>16.06.2020</td>\n",
       "      <td>17.06.2015</td>\n",
       "      <td>Действующее</td>\n",
       "      <td>СОЛЯРИС</td>\n",
       "    </tr>\n",
       "    <tr>\n",
       "      <th>4</th>\n",
       "      <td>28402.0</td>\n",
       "      <td>660335890</td>\n",
       "      <td>Х777ТА25</td>\n",
       "      <td>7.743744e+09</td>\n",
       "      <td>Серия МСК № 031069</td>\n",
       "      <td>Hyundai</td>\n",
       "      <td>2010.0</td>\n",
       "      <td>15.04.2013</td>\n",
       "      <td>14.04.2018</td>\n",
       "      <td>13.02.2016</td>\n",
       "      <td>Истек срок действия</td>\n",
       "      <td>SantaFE</td>\n",
       "    </tr>\n",
       "  </tbody>\n",
       "</table>\n",
       "</div>"
      ],
      "text/plain": [
       "   LicenseNumber  global_id VehicleNumber           INN         BlankNumber  \\\n",
       "0        54012.0   14174025       УУ50277  7.736680e+09  Серия МСК № 062005   \n",
       "1        54013.0   14174027       УМ76477  7.736680e+09  Серия МСК № 062006   \n",
       "2        42584.0  660335888       КЕ37077  7.713651e+11  Серия МСК № 048754   \n",
       "3        54318.0  660335889       КО92277  5.433288e+10  Серия МСК № 062326   \n",
       "4        28402.0  660335890      Х777ТА25  7.743744e+09  Серия МСК № 031069   \n",
       "\n",
       "  VehicleBrand  VehicleYear LicenseDate LicenseEndDate    EditDate  \\\n",
       "0         FORD       2015.0  15.06.2015     14.06.2020  17.03.2017   \n",
       "1         FORD       2015.0  15.06.2015     14.06.2020  17.03.2017   \n",
       "2    CHEVROLET       2014.0  27.06.2014     26.06.2019  27.06.2014   \n",
       "3        ХЕНДЭ       2015.0  17.06.2015     16.06.2020  17.06.2015   \n",
       "4      Hyundai       2010.0  15.04.2013     14.04.2018  13.02.2016   \n",
       "\n",
       "                Status VehicleModel  \n",
       "0         Аннулировано       GALAXY  \n",
       "1         Аннулировано       GALAXY  \n",
       "2          Действующее   CRUZE KL1J  \n",
       "3          Действующее      СОЛЯРИС  \n",
       "4  Истек срок действия      SantaFE  "
      ]
     },
     "execution_count": 6,
     "metadata": {},
     "output_type": "execute_result"
    }
   ],
   "source": [
    "data.head()"
   ]
  },
  {
   "cell_type": "markdown",
   "metadata": {},
   "source": [
    "Метод describe показывает основные статистические характеристики по целочисленным и вещественным признакам: число непропущенных значений, среднее, стандартное отклонение, диапазон, медиану, 0.25 и 0.75 квартили."
   ]
  },
  {
   "cell_type": "code",
   "execution_count": 7,
   "metadata": {},
   "outputs": [
    {
     "data": {
      "text/html": [
       "<div>\n",
       "<style scoped>\n",
       "    .dataframe tbody tr th:only-of-type {\n",
       "        vertical-align: middle;\n",
       "    }\n",
       "\n",
       "    .dataframe tbody tr th {\n",
       "        vertical-align: top;\n",
       "    }\n",
       "\n",
       "    .dataframe thead th {\n",
       "        text-align: right;\n",
       "    }\n",
       "</style>\n",
       "<table border=\"1\" class=\"dataframe\">\n",
       "  <thead>\n",
       "    <tr style=\"text-align: right;\">\n",
       "      <th></th>\n",
       "      <th>LicenseNumber</th>\n",
       "      <th>global_id</th>\n",
       "      <th>INN</th>\n",
       "      <th>VehicleYear</th>\n",
       "    </tr>\n",
       "  </thead>\n",
       "  <tbody>\n",
       "    <tr>\n",
       "      <th>count</th>\n",
       "      <td>99987.000000</td>\n",
       "      <td>9.999700e+04</td>\n",
       "      <td>9.998700e+04</td>\n",
       "      <td>99987.000000</td>\n",
       "    </tr>\n",
       "    <tr>\n",
       "      <th>mean</th>\n",
       "      <td>49996.033824</td>\n",
       "      <td>6.751152e+08</td>\n",
       "      <td>1.802267e+11</td>\n",
       "      <td>2012.968976</td>\n",
       "    </tr>\n",
       "    <tr>\n",
       "      <th>std</th>\n",
       "      <td>28865.801371</td>\n",
       "      <td>4.880417e+07</td>\n",
       "      <td>3.043374e+11</td>\n",
       "      <td>3.516229</td>\n",
       "    </tr>\n",
       "    <tr>\n",
       "      <th>min</th>\n",
       "      <td>1.000000</td>\n",
       "      <td>1.417402e+07</td>\n",
       "      <td>7.250036e+08</td>\n",
       "      <td>1968.000000</td>\n",
       "    </tr>\n",
       "    <tr>\n",
       "      <th>25%</th>\n",
       "      <td>24998.500000</td>\n",
       "      <td>6.603783e+08</td>\n",
       "      <td>7.716811e+09</td>\n",
       "      <td>2011.000000</td>\n",
       "    </tr>\n",
       "    <tr>\n",
       "      <th>50%</th>\n",
       "      <td>49995.000000</td>\n",
       "      <td>6.604076e+08</td>\n",
       "      <td>7.727235e+09</td>\n",
       "      <td>2014.000000</td>\n",
       "    </tr>\n",
       "    <tr>\n",
       "      <th>75%</th>\n",
       "      <td>74991.500000</td>\n",
       "      <td>6.604362e+08</td>\n",
       "      <td>2.115016e+11</td>\n",
       "      <td>2015.000000</td>\n",
       "    </tr>\n",
       "    <tr>\n",
       "      <th>max</th>\n",
       "      <td>99999.000000</td>\n",
       "      <td>8.617584e+08</td>\n",
       "      <td>9.715013e+11</td>\n",
       "      <td>2018.000000</td>\n",
       "    </tr>\n",
       "  </tbody>\n",
       "</table>\n",
       "</div>"
      ],
      "text/plain": [
       "       LicenseNumber     global_id           INN   VehicleYear\n",
       "count   99987.000000  9.999700e+04  9.998700e+04  99987.000000\n",
       "mean    49996.033824  6.751152e+08  1.802267e+11   2012.968976\n",
       "std     28865.801371  4.880417e+07  3.043374e+11      3.516229\n",
       "min         1.000000  1.417402e+07  7.250036e+08   1968.000000\n",
       "25%     24998.500000  6.603783e+08  7.716811e+09   2011.000000\n",
       "50%     49995.000000  6.604076e+08  7.727235e+09   2014.000000\n",
       "75%     74991.500000  6.604362e+08  2.115016e+11   2015.000000\n",
       "max     99999.000000  8.617584e+08  9.715013e+11   2018.000000"
      ]
     },
     "execution_count": 7,
     "metadata": {},
     "output_type": "execute_result"
    }
   ],
   "source": [
    "data.describe()"
   ]
  },
  {
   "cell_type": "markdown",
   "metadata": {},
   "source": [
    "LicenseNumber, global_id, INN являются кодовыми значениями, поэтому осмысленные выводы можно сделать только по признаку VehicleYear.\n",
    "\n",
    "Итак, в среднем автомобиль такси в Москве имеет возраст 5 лет. Старейший автомобиль такси - 1968 (!) годы выпуска."
   ]
  },
  {
   "cell_type": "code",
   "execution_count": 8,
   "metadata": {},
   "outputs": [
    {
     "data": {
      "image/png": "[encoded data removed]",
      "text/plain": [
       "<matplotlib.figure.Figure at 0x7fd5808c1c10>"
      ]
     },
     "metadata": {},
     "output_type": "display_data"
    }
   ],
   "source": [
    "data['VehicleYear'].plot(kind='kde')\n",
    "plt.show()"
   ]
  },
  {
   "cell_type": "code",
   "execution_count": 9,
   "metadata": {},
   "outputs": [
    {
     "name": "stdout",
     "output_type": "stream",
     "text": [
      "array([u'Аннулировано',\n",
      "       u'Действующее',\n",
      "       u'Истек срок действия',\n",
      "       u'Приостановлено',\n",
      "       u'Прекращено действие',\n",
      "       nan], dtype=object)\n"
     ]
    }
   ],
   "source": [
    "status_values = data.Status.unique() # узнаем, какие значения принимает признак Status\n",
    "print repr(status_values).decode(\"unicode-escape\")"
   ]
  },
  {
   "cell_type": "code",
   "execution_count": 10,
   "metadata": {},
   "outputs": [],
   "source": [
    "# заменим строковые значения на булевы\n",
    "data['Status'] = data['Status'].replace({u'Аннулировано': False,\n",
    "                                         u'Действующее': True,\n",
    "                                         u'Истек срок действия': False,\n",
    "                                         u'Приостановлено': False,\n",
    "                                         u'Прекращено действие': False})"
   ]
  },
  {
   "cell_type": "code",
   "execution_count": 11,
   "metadata": {},
   "outputs": [
    {
     "name": "stdout",
     "output_type": "stream",
     "text": [
      "array([u'FORD', u'CHEVROLET', u'ХЕНДЭ',\n",
      "       u'Hyundai', u'Ford', u'ШКОДА',\n",
      "       u'Киа', u'HYUNDAI', u'KIA', u'SKODA', u'RENAULT',\n",
      "       u'Шкода', u'Skoda',\n",
      "       u'Форд', u'КИА',\n",
      "       u'форд', u'CITROEN', u'NISSAN',\n",
      "       u'РЕНО', u'TOYOTA', u'HYNDAI',\n",
      "       u'Ниссан', u'Kia', u'VOLKSWAGEN',\n",
      "       u'MERCEDES',\n",
      "       u'Фольксваген',\n",
      "       u'ТОЙОТА', u'MAZDA',\n",
      "       u'Хендэ', u'GEELY',\n",
      "       u'Рено', u'HONDA', u'Пежо',\n",
      "       u'ФОЛЬКСВАГЕН',\n",
      "       u'VAZ', u'Chevrolet', u'Daewoo', u'hyundai',\n",
      "       u'хендэ', u'Mitsubishi', u'Volkswagen',\n",
      "       u'KIAFG', u'MITSUBISHI', u'Nissan', u'LIFAN',\n",
      "       u'рено', u'ФОРД', u'OPEL',\n",
      "       u'Нyundai', u'AUDI', u'Honda', u'kia', u'DAEWOO',\n",
      "       u'НИССАН', u'VAZ 21140',\n",
      "       u'Мерседес-Бенц',\n",
      "       u'КIА', u'Opel', u'TESLA S', u'IMYA-M',\n",
      "       u'шкода', u'volkswagen', u'КIA',\n",
      "       u'FIAT', u'ХЕНДАЙ',\n",
      "       u'СИТРОЕН', u'Mercedes',\n",
      "       u'LEXUS', u'GАZ',\n",
      "       u'Шевроле', u'PEUGEOT',\n",
      "       u'MERCEDES-BENZ', u'Опель', u'DODGE',\n",
      "       u'БМВ', u'Renault', u'ПЕЖО',\n",
      "       u'ROVER', u'ШЕВРОЛЕ', u'BMW',\n",
      "       u'ФИАТ', u'Peugeot',\n",
      "       u'ДАТСУН', u'Volvo', u'HYUNDAI (VF)',\n",
      "       u'ДЭУ', u'Lada', u'MERCEDES-', u'FAW',\n",
      "       u'Лифан', u'Geely', u'LAMBORGHINI',\n",
      "       u'224353', u'Ситроен', u'Dodge',\n",
      "       u'фольксваген',\n",
      "       u'КИА KIA',\n",
      "       u'Шевролет',\n",
      "       u'ЛАДА', u'Дэу',\n",
      "       u'ОПЕЛЬ АСТРА',\n",
      "       u'Мазда', u'Citroen', u'GAZ', u'Toyota',\n",
      "       u'CHERY', u'CYEVROLET',\n",
      "       u'VOLKSWAGEN (ФОЛЬКСВАГЕН)',\n",
      "       u'ДУЭ', u'Mercedes-Benz', u'ALFA',\n",
      "       u'ЛИФАН', u'SSANG', u'Mazda', u'LADA',\n",
      "       u'ВАЗ', u'TAGAZ', u'VOLVO', u'Ssang Yong', u'ZAZ',\n",
      "       u'ХЕНДЭ HYUNDAI',\n",
      "       u'шевроле',\n",
      "       u'ТАГАЗ', u'KIA ED', u'Chrysler',\n",
      "       u'skoda', u'DEElY', u'ВОЛЬВО',\n",
      "       u'SUBARU',\n",
      "       u'Мерседес бенц',\n",
      "       u'Nnissan', u'Тойота', u'VOLKSVAGEN',\n",
      "       u'Фиат',\n",
      "       u'HYUNDAI (ХЕНДЭ)', u'GEELY EMGRAND',\n",
      "       u'Vaz', u'FAW BESTURN', u'LADA 211440',\n",
      "       u'HYUNDAI(ХЕНДЭ)', u'KIO',\n",
      "       u'HYUNDAI SOLARIS', u'Хундай-',\n",
      "       u'КИО', u'NiISSAN', u'Vjlkswagen',\n",
      "       u'CHEVROLET KLAN', u'Scoda', u'ОПЕЛЬ',\n",
      "       u'LAND', u'Хендэ Hyundai', u'Audi',\n",
      "       u'Subaru', u'Джили', u'METROCAB',\n",
      "       u'LAND ROVER', u'Renaul', u'Ravon',\n",
      "       u'хэндэ',\n",
      "       u'Хенде', u'INFINITI', u'CHEVROLE',\n",
      "       u'КИА JD', u'RAVON',\n",
      "       u'Порше',\n",
      "       u'ЧЕРРИ', u'Great Wall', u'Fiat',\n",
      "       u'МЕРСЕДЕС БЕНЦ',\n",
      "       u'GREAT',\n",
      "       u'Иран ходро',\n",
      "       u'ХОНДА',\n",
      "       u'Хенда',\n",
      "       u'МЕРСЕДЕС-БЕНЦ',\n",
      "       u'SUZUKI', u'Hyunday', u'Saab', u'CHRYSLER', u'SEAT', u'KIA JD',\n",
      "       u'киа', u'Suzuki', u'LADA 217230',\n",
      "       u'МАЗДА', u'LANCER', u'CHEVROLET LACETTI',\n",
      "       u'Ауди', u'Сhevrolet',\n",
      "       u'Мицубиси',\n",
      "       u'Мерседес Бенц',\n",
      "       u'PEUGEOT 406', u'пежо', u'VAZ21144',\n",
      "       u'Land rover', u'nissan', u'VAZ 21144', u'SAAB',\n",
      "       u'Шкода Октавия',\n",
      "       u'A21', u'Kia MB', u'WOLKSWAGEN', u'ЧЕРИ',\n",
      "       u'Land Rover', u'VORTEX',\n",
      "       u'ПЕЖО БОКСЕР',\n",
      "       u'ГАЗ', u'LADA217130', u'SSANG YONG',\n",
      "       u'хенде', u'HYUNDAU', u'chevrolet',\n",
      "       u'BYD', u'GELLY', u'ниссан',\n",
      "       u'SOV T11', u'CITRIEN', u'Infiniti', u'Lifan',\n",
      "       u'Фольсксваген',\n",
      "       u'SUV', u'Lexus', u'DACIA',\n",
      "       u'МИЦУБИСИ',\n",
      "       u'мазда', u'SHEVROLE', u'Chery',\n",
      "       u'ДЭУ DAEWOO',\n",
      "       u'ШКОДА SKODA',\n",
      "       u'АУДИ', u'MERCRDES-BENZ', u'LADA LARGUS',\n",
      "       u'DAAEWOO', u'vaz', u'GEELY EMGRAND (FE-1)', u'DATSUN', u'JAGUAR',\n",
      "       u'ХУНДАЙ', u'ZAZ CHANCE',\n",
      "       u'CEVROLET', u'Volga', u'LADA 219020', u'FORD-', u'DAEWOO-',\n",
      "       u'Jaguar', u'Хэндэ', u'Mini',\n",
      "       u'Хендай',\n",
      "       u'ВОЛЬВО-', u'KLAN',\n",
      "       u'Хендз', u'Brilliance',\n",
      "       u'шевролет',\n",
      "       u'MERCERDES-BENZ', u'ДЕУ', u'Mitsubishi-',\n",
      "       u'KIA DE',\n",
      "       u'фОЛЬКСВАГЕН',\n",
      "       u'Toyota-', u'RЕNAULT', u'SCODA', u'DOGDE',\n",
      "       u'Лада', u'Renault-', u'Кио',\n",
      "       u'деу', u'CHEVROLET KLAN J200',\n",
      "       u'ХЕНДЕ', u'GEELY EMGRAND )', u'Kia ED',\n",
      "       u'Лексус', u'Kia TD',\n",
      "       u'KИА', u'Xендэ (I40)',\n",
      "       u'СHEVROLET', u'CADILLAC',\n",
      "       u'ФОЛЬКСВАГЕН ПОЛО',\n",
      "       u'КИА РИО',\n",
      "       u'Мерседес-бенц',\n",
      "       u'Вольво', u'MERCRDES',\n",
      "       u'Хюндай',\n",
      "       u'мицубиси', u'Vaz-',\n",
      "       u'Оpel', u'MERCEDES-BENZ-',\n",
      "       u'ВОРТЕКС', u'GELLI', u'Hyudai',\n",
      "       u'Chevrolet-', u'Huyndai', u'ФОРД-',\n",
      "       u'MITSUDISHI', u'HUNDAI', u'РЕНО-', u'ACURA',\n",
      "       u'HYUNDAY', u'ТОЙТА', u'LADA 219050',\n",
      "       u'RENAUL', u'DODGE-GRAND', u'GEELI', u'IRAN', u'JEEP',\n",
      "       u'ФОЛЬКСВАГЕН VOLKSWAGEN',\n",
      "       u'Heundai', u'ДЖИЛИ',\n",
      "       u'ВАЗ-', u'RANAULT',\n",
      "       u'Тайота',\n",
      "       u'хэнде', u'MERSEDES-BENZ', u'HYUNDA',\n",
      "       u'RENAULR', u'Хонда',\n",
      "       u'дэу', u\"KIA CEE'D\",\n",
      "       u'ШЕВРОЛЕ ОРЛАНДО',\n",
      "       u'МЕРСЕДЕС', u'CVEVROLET',\n",
      "       u'daewoo', u'Volkswagen-', u'Vokswagen', u'HYUNDAI VF',\n",
      "       u'Iran Khodro',\n",
      "       u'Фольцваген',\n",
      "       u'A21 Vortex', u'Vortex', u'PEOGEOT', u'DAIHATSU',\n",
      "       u'ИРАН', u'mazda', u'VORTEX ESTINA',\n",
      "       u'MЕRCEDES-BENZ', u'SSANGYONG', u'Чери',\n",
      "       u'GENESIS', u'DAEWWOO',\n",
      "       u'ДЭУНЕКСИЯ',\n",
      "       u'Shevrolet',\n",
      "       u'Фолькваген',\n",
      "       u'OPEL ASTRA', u'HYUNDAI-',\n",
      "       u'ХЕНДЭ (HYUNDAI)',\n",
      "       u'Хендэ (Hyundai)', u'CHEVROLET KL1J',\n",
      "       u'КIA SLS', u'ford', u'Datsun',\n",
      "       u'Ситроен С4',\n",
      "       u'МЕРСЕДЕС-БЕНЦ (MERCEDES-BENZ)',\n",
      "       u'CEAT', u'A21 VORTEX', u'FIAT DOBLO', u'SHEVROLET',\n",
      "       u'MITSUBISHI-', u'VOLGA', u'Lada Largus', u'NISSAN ALMERA',\n",
      "       u'OPELASTRA', u'Chevrolet KLAL', u'KIA YNS', u'SsangYong',\n",
      "       u'Хундай', u'Chevrolet Klan',\n",
      "       u'РЕНО RENAULT', u'MERCEDES BENTS',\n",
      "       u\"FOL'KSVAGEN\", u'renault', u'opel', u'СНЕVROLET',\n",
      "       u'ВОЛЬКСВАГЕН',\n",
      "       u'HYUNDAI HYUNDAI', u'A21VORTEKS',\n",
      "       u'Шкода (SKODA)', u'ЗАЗ',\n",
      "       u'Шевроле круз',\n",
      "       u'BMW-', u'LIFAN 214813', u'KIA GE', u'ГАЗ-',\n",
      "       u'KIa', u'BMW 530D', u'LADA219060', u'HAFEI',\n",
      "       u'ШКОДА (SKODA)',\n",
      "       u'ЛАДА-', u'Pontiac', u'AZLK', u'KIA TD',\n",
      "       u'KIA (КИА)', u'FORD (ФОРД)',\n",
      "       u'CHANGAN', u'НИССАН NISSAN',\n",
      "       u'CHEVOLET', u'MASERATI', u'DIVE', u'Kia Forte', u'OLDSMOBILE',\n",
      "       u'SCION', u'IRAN KHODRO', u'KIА', u'DODG', u'LADA GRANTA',\n",
      "       u'wolkswagen', u'CHERY A21', u'Suv', u'LEXUS-', u'Hyndai', u'Jeep',\n",
      "       u'Mini Cooper', u'HAVAL', u'ХЭНДЭ',\n",
      "       u'Seat', u'Сitroen', u'HYNNDAI', u'Rover', u'toyota', u'M',\n",
      "       u'MINI COOPER', u'RENO', u'MINI', u'PEUGOT', u'НYUNDAI',\n",
      "       u'zaz', u'Школа',\n",
      "       u'ГАЗ-VOLGA',\n",
      "       u'ШЕВРОЛЕТ', u'SEATLEON',\n",
      "       u'ГАЗ3110', u'JAC', u'Dacia',\n",
      "       u'Субару', u'PLYMOUTH',\n",
      "       u'хендай', u'MG', u'NISSAN-X-TRAIL',\n",
      "       u'DFM', u'ДОДЖ', u'VOLKSAWGEN',\n",
      "       u'VОLKSWAGEN', u'KIAED', u'CHERY-', u'GREAT WALL', u'Hundai',\n",
      "       u'KIA MOДИФ', u'LADA 111930 LADA',\n",
      "       u'ССАНГ ЕНГ',\n",
      "       u'ГАЗ Волга',\n",
      "       u'Мерседес',\n",
      "       u'мерседес бенц',\n",
      "       u'НИССАН (NISSAN)',\n",
      "       u'ДАЕВУ',\n",
      "       u'тойота', u'VERCEDES-BENZ',\n",
      "       u'VAZ 21074', u'LADA 111730', u'SUV T11', u'Lada 217030',\n",
      "       u'ДОДЖ-',\n",
      "       u'Шеврале', u'HAIMA',\n",
      "       u'Датцун',\n",
      "       u'NISSAN (НИССАН)',\n",
      "       u'ДЖЕЕЛИ', u'VAZ 211540',\n",
      "       u'ДЖЕЛИ', u'MASDA', u'RENAUT',\n",
      "       u'SKODA OCTAVIA', u'Лотус',\n",
      "       u'Дацун', u'Scion', u'VAZ-',\n",
      "       u'MOTSUBISHI', u'CHERI', u'KIA FВ2272', u'KIA FB2272',\n",
      "       u'HYUNDAI TG', u'SAAD', u'MISUBISHI', u'MERSEDES-',\n",
      "       u'А21 VORTEX', u'KIA SPECTRA', u'TOЙOTA', u'HUYNDAI',\n",
      "       u'FIAT - 178CYN1A', u'VAZ 21053', u'ZАZ', u'SHKODA',\n",
      "       u'CHEVLOLET', u'UAZ',\n",
      "       u'МИТЦУБИСИ',\n",
      "       u'FIAT-DOBLO', u'Крайслер',\n",
      "       u'RENAULT LOGAN', u'DONINVEST', u'peugeot',\n",
      "       u'МАЗДА-', u'Mazda-', u'Vortex А21',\n",
      "       u'Gaz', u'ЗАЗ CHANCE', u'RENAULT MEGANE II',\n",
      "       u'MITSIBISHI', u'CHRUSLER', u'BUICK', u'А21', u'PONTIAC',\n",
      "       u'MITSUBISHI LANCER', u'volkswagen passat', u'A-IRAN KHODRO',\n",
      "       u'KIA MV', u'KIA-ED',\n",
      "       u'ШЕВРОЛЕ KL1J', u'PEUGEOT-',\n",
      "       u'Mercedes Benz', u'HYUNDAI-NF', u'DODGE GRAND', u'FORD FOCUS',\n",
      "       u'KIA MAGENTIS', u'SUVT11', u'KIA-',\n",
      "       u'CHEVROLET KLAN (J200/LACETTI)', u'PEUGEJT', u'MITSUBISCHI',\n",
      "       u'VITSUBISHI', u'LADA VAZ', u'RENAULТ', u'FORD MONDEO',\n",
      "       u'IZH', u'225', u'VOLKWAGEN', u'MAZDA-', u'L1H1', u'DEWOO',\n",
      "       u'MERCEDES - BENZ', u'MITSUBUSHI', u'CHRVROLET', u'MOSKVICH',\n",
      "       u'WOLKSVAGEN', u'LADA 210740', u'FORD MOTOR', u'DAIMLER',\n",
      "       u'CADILLAK', u'TOYOTA-', u'Kia-', u'SSANG YOUNG', u'NISSAN NOTE',\n",
      "       u'MERCEDES-BЕNZ', u'PEHO', u'KIA FB 2272', u'dodge',\n",
      "       u'CHEVROLET KLAL', u'MERCEDES-BENZ E200', u'БАД',\n",
      "       u'LANDMARK', u'Plymouth', u'СУЗУКИ',\n",
      "       u'NISSAN TEANA', u'MITSUDISYI', u'КiА',\n",
      "       u'MITSUBISHI 1.5', u'RENFULT', u'RENAULT-', u'BMV',\n",
      "       u'КИА-МВ', u'GAZ-',\n",
      "       u'БОГДАН', u'DACIAL', u'CHERY SUV',\n",
      "       u'KHENDE', u'FORD ФОРД', u'HYUNDAI ELANTRA',\n",
      "       u'ВАЗ21140', u'СITROEN', u'HYUNDAI TRAJET',\n",
      "       u'Lada 217130', u'NISSAN TIANA 3.5', u'NISSAN TIIDA',\n",
      "       u'РЕНО MEGANE', u'Great', u'volga',\n",
      "       u'VAZ 210740', u'LADA-217030',\n",
      "       u'КРАЙСЛЕР',\n",
      "       u'ХЕНДЭ NF', u'VORTEKS',\n",
      "       u'CHEVROLET KLAN G200', u'OpeL', u'HONDA-', u'HYUDAI',\n",
      "       u'CHEVROLET-KLAN', u'KIA FG', u'XENDE', u'SUZUKI GRAND',\n",
      "       u'IMYA M-3006', u'Daihatsu', u'CHEVROLET LANOS', u'NYUNDAI',\n",
      "       u'MERCEDES BENZ',\n",
      "       u'ДАЙХАТСУ',\n",
      "       u'део', u'CHEVROLET LATSETTI', u'MITSUBICHI',\n",
      "       u'KIA YED', u'LADA 219000', u'Vaz 21074', u'Volkswagen 2K',\n",
      "       u'LADA 217130', u'RENAULT LAGUNA', u'RENO SR',\n",
      "       u'СУБАРУ', u'Skoda-', u'CHEVROLET-',\n",
      "       u'TOYOTA LAND', u'VOLKCVAGEN', u'MITSUBISH',\n",
      "       u'JAC ТАГАЗ',\n",
      "       u'хундай', nan,\n",
      "       u'ЛЕНД РОВЕР',\n",
      "       u'РАВОН', u'Kиа',\n",
      "       u'ЯГУАР',\n",
      "       u'Ссанг Енг',\n",
      "       u'LONDON TAXI', u'Wolkswagen', u'LADA GFL130',\n",
      "       u'ПОРШЕ', u'lifan', u'VORTEX A21'],\n",
      "      dtype=object)\n"
     ]
    }
   ],
   "source": [
    "VehicleBrand_values = data.VehicleBrand.unique()\n",
    "print repr(VehicleBrand_values).decode(\"unicode-escape\")\n"
   ]
  },
  {
   "cell_type": "markdown",
   "metadata": {},
   "source": [
    "Как видно, строгой единообразности при сборе данных о марках автомобилей такси не было. Исправим положение вручную."
   ]
  },
  {
   "cell_type": "code",
   "execution_count": 12,
   "metadata": {},
   "outputs": [],
   "source": [
    "data['VehicleBrand'] = data['VehicleBrand'].replace({u'ХЕНДЭ': u'HYUNDAI',\n",
    "                                                    u'Hyundai': u'HYUNDAI',\n",
    "                                                    u'hyundai':u'HYUNDAI',\n",
    "                                                    u'хендэ':u'HYUNDAI',\n",
    "                                                    u'Нyundai':u'HYUNDAI',\n",
    "                                                    u'ХЕНДАЙ':u'HYUNDAI',\n",
    "                                                    u'Honda':u'HONDA',\n",
    "                                                    u'Mitsubishi':u'MITSUBISHI',\n",
    "                                                    u'Nissan':u'NISSAN',\n",
    "                                                    u'nissan':u'NISSAN',\n",
    "                                                    u'НИССАН':u'NISSAN',\n",
    "                                                    u'Ниссан':u'NISSAN',\n",
    "                                                    u'ниссан':u'NISSAN',\n",
    "                                                    u'Chevrolet':u'CHEVROLET',\n",
    "                                                    u'Шевроле':u'CHEVROLET',\n",
    "                                                    u'ШЕВРОЛЕ':u'CHEVROLET',\n",
    "                                                    u'Daewoo':u'DAEWOO',\n",
    "                                                    u'Ford':u'FORD',\n",
    "                                                    u'ФОРД':u'FORD',\n",
    "                                                    u'ШКОДА':u'SKODA',\n",
    "                                                    u'Шкода':u'SKODA',\n",
    "                                                    u'шкода':u'SKODA',\n",
    "                                                    u'Skoda':u'SKODA',\n",
    "                                                    u'Киа':u'KIA',\n",
    "                                                    u'КIА':u'KIA',\n",
    "                                                    u'КIA':u'KIA',\n",
    "                                                    u'Форд':u'FORD',\n",
    "                                                    u'КИА':u'KIA',\n",
    "                                                    u'KIAFG':u'KIA',\n",
    "                                                    u'форд':u'FORD',\n",
    "                                                    u'РЕНО':u'RENAULT',\n",
    "                                                    u'рено':u'RENAULT',\n",
    "                                                    u'Ниссан':u'NISSAN',\n",
    "                                                    u'Kia':u'KIA',\n",
    "                                                    u'kia':u'KIA',\n",
    "                                                    u'KIA FB2272':u'KIA',\n",
    "                                                    u'Фольксваген':u'VOLKSWAGEN',\n",
    "                                                    u'ФОЛЬКСВАГЕН':u'VOLKSWAGEN',\n",
    "                                                    u'Volkswagen':u'VOLKSWAGEN',\n",
    "                                                    u'volkswagen':u'VOLKSWAGEN',\n",
    "                                                    u'фольксваген':u'VOLKSWAGEN',\n",
    "                                                    u'ТОЙОТА':u'TOYOTA',\n",
    "                                                    u'Тойота':u'TOYOTA',\n",
    "                                                    u'Toyota':u'TOYOTA',\n",
    "                                                    u'Хендэ':u'HYUNDAI',\n",
    "                                                    u'Рено':u'RENAULT',\n",
    "                                                    u'Renault':u'RENAULT',\n",
    "                                                    u'Пежо':u'PEUGEOT',\n",
    "                                                    u'пежо':u'PEUGEOT',\n",
    "                                                    u'ПЕЖО':u'PEUGEOT',\n",
    "                                                    u'Peugeot':u'PEUGEOT',\n",
    "                                                    u'peugeot':u'PEUGEOT',\n",
    "                                                    u'VAZ 21140':u'VAZ',\n",
    "                                                    u'Мерседес-Бенц':u'MERCEDES-BENZ',\n",
    "                                                    u'Mercedes':u'MERCEDES-BENZ',\n",
    "                                                    u'Mercedes-Benz':u'MERCEDES-BENZ',\n",
    "                                                    u'MERCEDES':u'MERCEDES-BENZ',\n",
    "                                                    u'Opel':u'OPEL',\n",
    "                                                    u'opel':u'OPEL',\n",
    "                                                    u'опель':u'OPEL',\n",
    "                                                    u'Опель':u'OPEL',\n",
    "                                                    u'ОПЕЛЬ':u'OPEL',\n",
    "                                                    u'TESLA S':u'TESLA',\n",
    "                                                    u'СИТРОЕН':u'CITROEN',\n",
    "                                                    u'Citroen':u'CITROEN',\n",
    "                                                    u'GАZ':u'GAZ',\n",
    "                                                    u'gaz':u'GAZ',\n",
    "                                                    u'ГАЗ':u'GAZ',\n",
    "                                                    u'Lifan':u'LIFAN',\n",
    "                                                    u'lifan':u'LIFAN',\n",
    "                                                    u'Лифан':u'LIFAN',\n",
    "                                                    u'Mazda':u'MAZDA',\n",
    "                                                    u'Мазда':u'MAZDA',\n",
    "                                                    u'МАЗДА':u'MAZDA',\n",
    "                                                    u'БМВ':u'BMW',\n",
    "                                                    u'ВАЗ':u'VAZ'\n",
    "                                                    })"
   ]
  },
  {
   "cell_type": "markdown",
   "metadata": {},
   "source": [
    "Удалим \"хвост\" распределения выборки. Условно установим, что \"хвостом\" являются элементы, значения признаков VehicleBrand в сумме меньше или равно по количеству, чем 50."
   ]
  },
  {
   "cell_type": "code",
   "execution_count": 13,
   "metadata": {},
   "outputs": [
    {
     "name": "stderr",
     "output_type": "stream",
     "text": [
      "/home/nikolai/anaconda2/lib/python2.7/site-packages/pandas/core/indexing.py:194: SettingWithCopyWarning: \n",
      "A value is trying to be set on a copy of a slice from a DataFrame\n",
      "\n",
      "See the caveats in the documentation: http://pandas.pydata.org/pandas-docs/stable/indexing.html#indexing-view-versus-copy\n",
      "  self._setitem_with_indexer(indexer, value)\n"
     ]
    }
   ],
   "source": [
    "threshold = 50\n",
    "for col in data:\n",
    "    vc = data.VehicleBrand.value_counts()\n",
    "    vals_to_remove = vc[vc <= threshold].index.values\n",
    "    data.VehicleBrand.loc[data.VehicleBrand.isin(vals_to_remove)] = None"
   ]
  },
  {
   "cell_type": "code",
   "execution_count": 14,
   "metadata": {},
   "outputs": [
    {
     "data": {
      "text/plain": [
       "HYUNDAI          22341\n",
       "FORD             17071\n",
       "SKODA            14727\n",
       "KIA               9104\n",
       "RENAULT           7122\n",
       "CHEVROLET         6316\n",
       "VOLKSWAGEN        5978\n",
       "NISSAN            3761\n",
       "TOYOTA            2080\n",
       "CITROEN           1114\n",
       "MERCEDES-BENZ     1082\n",
       "DAEWOO             894\n",
       "OPEL               753\n",
       "PEUGEOT            730\n",
       "LIFAN              712\n",
       "GEELY              697\n",
       "VAZ                630\n",
       "MITSUBISHI         578\n",
       "MAZDA              456\n",
       "GAZ                254\n",
       "AUDI               226\n",
       "LADA               209\n",
       "HONDA              162\n",
       "BMW                143\n",
       "FIAT               128\n",
       "VOLVO              120\n",
       "ZAZ                108\n",
       "CHERY               81\n",
       "DODGE               66\n",
       "LEXUS               61\n",
       "Name: VehicleBrand, dtype: int64"
      ]
     },
     "execution_count": 14,
     "metadata": {},
     "output_type": "execute_result"
    }
   ],
   "source": [
    "data.VehicleBrand.value_counts()"
   ]
  },
  {
   "cell_type": "code",
   "execution_count": 15,
   "metadata": {},
   "outputs": [
    {
     "data": {
      "image/png": "[encoded data removed]",
      "text/plain": [
       "<matplotlib.figure.Figure at 0x7fd56eb8da90>"
      ]
     },
     "metadata": {},
     "output_type": "display_data"
    }
   ],
   "source": [
    "data.VehicleBrand.value_counts().plot(kind='bar')\n",
    "plt.show()"
   ]
  },
  {
   "cell_type": "markdown",
   "metadata": {},
   "source": [
    "Итак, мы выяснили, что самой популярной маркой легкового такси является Hyundai. За ним следуют Ford, Skoda и KIA."
   ]
  },
  {
   "cell_type": "code",
   "execution_count": 16,
   "metadata": {},
   "outputs": [
    {
     "data": {
      "text/html": [
       "<div>\n",
       "<style scoped>\n",
       "    .dataframe tbody tr th:only-of-type {\n",
       "        vertical-align: middle;\n",
       "    }\n",
       "\n",
       "    .dataframe tbody tr th {\n",
       "        vertical-align: top;\n",
       "    }\n",
       "\n",
       "    .dataframe thead th {\n",
       "        text-align: right;\n",
       "    }\n",
       "</style>\n",
       "<table border=\"1\" class=\"dataframe\">\n",
       "  <thead>\n",
       "    <tr style=\"text-align: right;\">\n",
       "      <th></th>\n",
       "      <th>LicenseNumber</th>\n",
       "      <th>global_id</th>\n",
       "      <th>VehicleNumber</th>\n",
       "      <th>INN</th>\n",
       "      <th>BlankNumber</th>\n",
       "      <th>VehicleBrand</th>\n",
       "      <th>VehicleYear</th>\n",
       "      <th>LicenseDate</th>\n",
       "      <th>LicenseEndDate</th>\n",
       "      <th>EditDate</th>\n",
       "      <th>Status</th>\n",
       "      <th>VehicleModel</th>\n",
       "    </tr>\n",
       "  </thead>\n",
       "  <tbody>\n",
       "    <tr>\n",
       "      <th>0</th>\n",
       "      <td>54012.0</td>\n",
       "      <td>14174025</td>\n",
       "      <td>УУ50277</td>\n",
       "      <td>7.736680e+09</td>\n",
       "      <td>Серия МСК № 062005</td>\n",
       "      <td>FORD</td>\n",
       "      <td>2015.0</td>\n",
       "      <td>15.06.2015</td>\n",
       "      <td>14.06.2020</td>\n",
       "      <td>17.03.2017</td>\n",
       "      <td>False</td>\n",
       "      <td>GALAXY</td>\n",
       "    </tr>\n",
       "    <tr>\n",
       "      <th>1</th>\n",
       "      <td>54013.0</td>\n",
       "      <td>14174027</td>\n",
       "      <td>УМ76477</td>\n",
       "      <td>7.736680e+09</td>\n",
       "      <td>Серия МСК № 062006</td>\n",
       "      <td>FORD</td>\n",
       "      <td>2015.0</td>\n",
       "      <td>15.06.2015</td>\n",
       "      <td>14.06.2020</td>\n",
       "      <td>17.03.2017</td>\n",
       "      <td>False</td>\n",
       "      <td>GALAXY</td>\n",
       "    </tr>\n",
       "    <tr>\n",
       "      <th>2</th>\n",
       "      <td>42584.0</td>\n",
       "      <td>660335888</td>\n",
       "      <td>КЕ37077</td>\n",
       "      <td>7.713651e+11</td>\n",
       "      <td>Серия МСК № 048754</td>\n",
       "      <td>CHEVROLET</td>\n",
       "      <td>2014.0</td>\n",
       "      <td>27.06.2014</td>\n",
       "      <td>26.06.2019</td>\n",
       "      <td>27.06.2014</td>\n",
       "      <td>True</td>\n",
       "      <td>CRUZE KL1J</td>\n",
       "    </tr>\n",
       "    <tr>\n",
       "      <th>3</th>\n",
       "      <td>54318.0</td>\n",
       "      <td>660335889</td>\n",
       "      <td>КО92277</td>\n",
       "      <td>5.433288e+10</td>\n",
       "      <td>Серия МСК № 062326</td>\n",
       "      <td>HYUNDAI</td>\n",
       "      <td>2015.0</td>\n",
       "      <td>17.06.2015</td>\n",
       "      <td>16.06.2020</td>\n",
       "      <td>17.06.2015</td>\n",
       "      <td>True</td>\n",
       "      <td>СОЛЯРИС</td>\n",
       "    </tr>\n",
       "    <tr>\n",
       "      <th>4</th>\n",
       "      <td>28402.0</td>\n",
       "      <td>660335890</td>\n",
       "      <td>Х777ТА25</td>\n",
       "      <td>7.743744e+09</td>\n",
       "      <td>Серия МСК № 031069</td>\n",
       "      <td>HYUNDAI</td>\n",
       "      <td>2010.0</td>\n",
       "      <td>15.04.2013</td>\n",
       "      <td>14.04.2018</td>\n",
       "      <td>13.02.2016</td>\n",
       "      <td>False</td>\n",
       "      <td>SantaFE</td>\n",
       "    </tr>\n",
       "  </tbody>\n",
       "</table>\n",
       "</div>"
      ],
      "text/plain": [
       "   LicenseNumber  global_id VehicleNumber           INN         BlankNumber  \\\n",
       "0        54012.0   14174025       УУ50277  7.736680e+09  Серия МСК № 062005   \n",
       "1        54013.0   14174027       УМ76477  7.736680e+09  Серия МСК № 062006   \n",
       "2        42584.0  660335888       КЕ37077  7.713651e+11  Серия МСК № 048754   \n",
       "3        54318.0  660335889       КО92277  5.433288e+10  Серия МСК № 062326   \n",
       "4        28402.0  660335890      Х777ТА25  7.743744e+09  Серия МСК № 031069   \n",
       "\n",
       "  VehicleBrand  VehicleYear LicenseDate LicenseEndDate    EditDate Status  \\\n",
       "0         FORD       2015.0  15.06.2015     14.06.2020  17.03.2017  False   \n",
       "1         FORD       2015.0  15.06.2015     14.06.2020  17.03.2017  False   \n",
       "2    CHEVROLET       2014.0  27.06.2014     26.06.2019  27.06.2014   True   \n",
       "3      HYUNDAI       2015.0  17.06.2015     16.06.2020  17.06.2015   True   \n",
       "4      HYUNDAI       2010.0  15.04.2013     14.04.2018  13.02.2016  False   \n",
       "\n",
       "  VehicleModel  \n",
       "0       GALAXY  \n",
       "1       GALAXY  \n",
       "2   CRUZE KL1J  \n",
       "3      СОЛЯРИС  \n",
       "4      SantaFE  "
      ]
     },
     "execution_count": 16,
     "metadata": {},
     "output_type": "execute_result"
    }
   ],
   "source": [
    "data.head()"
   ]
  },
  {
   "cell_type": "markdown",
   "metadata": {},
   "source": [
    "Заменим строковые значения признака 'VehicleBrand' на целочисленные"
   ]
  },
  {
   "cell_type": "code",
   "execution_count": 17,
   "metadata": {},
   "outputs": [],
   "source": [
    "data['VehicleBrand'] = pd.factorize(data['VehicleBrand'])[0]\n"
   ]
  },
  {
   "cell_type": "code",
   "execution_count": 18,
   "metadata": {},
   "outputs": [
    {
     "data": {
      "text/plain": [
       "LabelEncoder()"
      ]
     },
     "execution_count": 18,
     "metadata": {},
     "output_type": "execute_result"
    }
   ],
   "source": [
    "from sklearn.ensemble import RandomForestClassifier\n",
    "from sklearn.preprocessing import LabelEncoder\n",
    "import numpy as np\n",
    "\n",
    "enc = LabelEncoder()\n",
    "enc.fit(data[\"VehicleBrand\"])"
   ]
  },
  {
   "cell_type": "markdown",
   "metadata": {},
   "source": [
    "Удалим значения NaN и проверим изменение количества объектов датасета."
   ]
  },
  {
   "cell_type": "code",
   "execution_count": 19,
   "metadata": {},
   "outputs": [
    {
     "data": {
      "text/plain": [
       "(99997, 12)"
      ]
     },
     "execution_count": 19,
     "metadata": {},
     "output_type": "execute_result"
    }
   ],
   "source": [
    "data.shape"
   ]
  },
  {
   "cell_type": "code",
   "execution_count": 20,
   "metadata": {},
   "outputs": [
    {
     "data": {
      "text/plain": [
       "(99987, 12)"
      ]
     },
     "execution_count": 20,
     "metadata": {},
     "output_type": "execute_result"
    }
   ],
   "source": [
    "data = data.dropna()\n",
    "data.shape"
   ]
  },
  {
   "cell_type": "markdown",
   "metadata": {},
   "source": [
    "Обучим модель случайного леса на отложенной выборке"
   ]
  },
  {
   "cell_type": "code",
   "execution_count": 21,
   "metadata": {},
   "outputs": [],
   "source": [
    "X = data[[\"INN\", \"VehicleBrand\", \"VehicleYear\"]]\n",
    "y = np.asarray(data[\"Status\"], dtype=\"bool\")\n",
    "\n",
    "X_train, X_test = X[:75000], X[75000:]\n",
    "y_train, y_test = y[:75000], y[75000:]"
   ]
  },
  {
   "cell_type": "code",
   "execution_count": 22,
   "metadata": {},
   "outputs": [
    {
     "data": {
      "text/plain": [
       "0.9085924680834033"
      ]
     },
     "execution_count": 22,
     "metadata": {},
     "output_type": "execute_result"
    }
   ],
   "source": [
    "clf = RandomForestClassifier(n_estimators=300, max_depth=3, random_state=241).fit(X_train, y_train)\n",
    "clf.score(X_test, y_test)\n"
   ]
  },
  {
   "cell_type": "markdown",
   "metadata": {},
   "source": [
    "Результат ~0.91 достаточно хорош. Теперь обучим такую же модель с кросс-валидацией."
   ]
  },
  {
   "cell_type": "code",
   "execution_count": 23,
   "metadata": {},
   "outputs": [
    {
     "name": "stdout",
     "output_type": "stream",
     "text": [
      "[0.87885225 0.8766434  0.87595484 0.87389034 0.8723694  0.87692724\n",
      " 0.87623016]\n",
      "0.875838233195397\n"
     ]
    }
   ],
   "source": [
    "from sklearn.model_selection import StratifiedKFold, cross_val_score\n",
    "\n",
    "clf_1 = RandomForestClassifier(n_estimators=300, max_depth=3, random_state=241)\n",
    "cv = StratifiedKFold(n_splits=7, shuffle=True, random_state=None)\n",
    "scores = cross_val_score(clf_1, X, y, scoring='roc_auc', cv=cv)\n",
    "print(scores)\n",
    "print(scores.mean())"
   ]
  },
  {
   "cell_type": "markdown",
   "metadata": {},
   "source": [
    "Кросс-валидация дает несколько худший результат.\n",
    "\n",
    "Теперь оценим вклад каждого признака в решение задачи классификации."
   ]
  },
  {
   "cell_type": "code",
   "execution_count": 24,
   "metadata": {},
   "outputs": [
    {
     "data": {
      "text/plain": [
       "[(u'INN', 0.1609141855436883),\n",
       " (u'VehicleBrand', 0.3034269569717216),\n",
       " (u'VehicleYear', 0.5356588574845902)]"
      ]
     },
     "execution_count": 24,
     "metadata": {},
     "output_type": "execute_result"
    }
   ],
   "source": [
    "list(zip(X, clf.feature_importances_))"
   ]
  },
  {
   "cell_type": "markdown",
   "metadata": {},
   "source": [
    "Как видно, наиболее важным признаком при определении действия лицензии является год выпуска автомобиля. Лицензиат, которого мы договорились определять по ИНН, является наименее важным."
   ]
  },
  {
   "cell_type": "markdown",
   "metadata": {},
   "source": [
    "# Итог\n",
    "\n",
    "Проанализировав набор данных о выданных Дептрансом Москвы разрешениях такси мы выяснили:\n",
    "* В среднем автомобиль такси в Москве имеет возраст 5 лет. Старейший автомобиль такси - 1968 (!) годы выпуска.\n",
    "* Самой популярной маркой легкового такси в Москве является Hyundai. За ним следуют Ford, Skoda и KIA.\n",
    "* Наиболее важным признаком при определении действия лицензии является год выпуска автомобиля. Лицензиат, которого мы договорились определять по ИНН, является наименее важным."
   ]
  },
  {
   "cell_type": "code",
   "execution_count": null,
   "metadata": {},
   "outputs": [],
   "source": []
  }
 ],
 "metadata": {
  "kernelspec": {
   "display_name": "Python 2",
   "language": "python",
   "name": "python2"
  },
  "language_info": {
   "codemirror_mode": {
    "name": "ipython",
    "version": 2
   },
   "file_extension": ".py",
   "mimetype": "text/x-python",
   "name": "python",
   "nbconvert_exporter": "python",
   "pygments_lexer": "ipython2",
   "version": "2.7.15"
  }
 },
 "nbformat": 4,
 "nbformat_minor": 2
}
